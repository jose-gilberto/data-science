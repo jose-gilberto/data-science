{
 "cells": [
  {
   "cell_type": "code",
   "execution_count": 1,
   "metadata": {},
   "outputs": [],
   "source": [
    "import numpy as np"
   ]
  },
  {
   "cell_type": "markdown",
   "metadata": {},
   "source": [
    "## Input e Output de arrays em arquivos\n",
    "Com o NumPy é possível gravar/ler arrays em arquivos, seja em formato binário ou em texto."
   ]
  },
  {
   "cell_type": "markdown",
   "metadata": {},
   "source": [
    "### Armazenando arrays em disco com formato binário\n",
    "`np.save` e `np.load` são as duas funções utilizadas para salvar e ler arrays de um arquivo em disco. Arrays são salvos em formato binário por padrão e utilizando a extensão **.npy**."
   ]
  },
  {
   "cell_type": "code",
   "execution_count": 2,
   "metadata": {},
   "outputs": [
    {
     "data": {
      "text/plain": [
       "array([0, 1, 2, 3, 4, 5, 6, 7, 8, 9])"
      ]
     },
     "execution_count": 2,
     "metadata": {},
     "output_type": "execute_result"
    }
   ],
   "source": [
    "arr = np.arange(10)\n",
    "arr"
   ]
  },
  {
   "cell_type": "code",
   "execution_count": 3,
   "metadata": {},
   "outputs": [],
   "source": [
    "np.save('some_array', arr)\n",
    "# Gera um arquivo some_array.npy no diretório do notebook"
   ]
  },
  {
   "cell_type": "code",
   "execution_count": 4,
   "metadata": {},
   "outputs": [
    {
     "data": {
      "text/plain": [
       "array([0, 1, 2, 3, 4, 5, 6, 7, 8, 9])"
      ]
     },
     "execution_count": 4,
     "metadata": {},
     "output_type": "execute_result"
    }
   ],
   "source": [
    "np.load('some_array.npy')"
   ]
  },
  {
   "cell_type": "markdown",
   "metadata": {},
   "source": [
    "Podemos gravar multiplos arrays utilizando a função **savez** e passando como os arrays como palavras chaves:"
   ]
  },
  {
   "cell_type": "code",
   "execution_count": 5,
   "metadata": {},
   "outputs": [],
   "source": [
    "np.savez('array_mult.npz', a=arr, b=arr)"
   ]
  },
  {
   "cell_type": "markdown",
   "metadata": {},
   "source": [
    "Ao ler um arquivo com a extensão **.npz** o resultado é um objeto semelhante ao dicionário onde os arrays podem ser encontrado nas chaves que lhes foram atribuidas pela função **savez**."
   ]
  },
  {
   "cell_type": "code",
   "execution_count": 6,
   "metadata": {},
   "outputs": [
    {
     "data": {
      "text/plain": [
       "<numpy.lib.npyio.NpzFile at 0x1d4179f7e88>"
      ]
     },
     "execution_count": 6,
     "metadata": {},
     "output_type": "execute_result"
    }
   ],
   "source": [
    "arr = np.load('array_mult.npz')\n",
    "arr"
   ]
  },
  {
   "cell_type": "code",
   "execution_count": 7,
   "metadata": {
    "scrolled": true
   },
   "outputs": [
    {
     "data": {
      "text/plain": [
       "array([0, 1, 2, 3, 4, 5, 6, 7, 8, 9])"
      ]
     },
     "execution_count": 7,
     "metadata": {},
     "output_type": "execute_result"
    }
   ],
   "source": [
    "arr['a']"
   ]
  },
  {
   "cell_type": "markdown",
   "metadata": {},
   "source": [
    "### Armazenando arrays em formato de texto\n"
   ]
  },
  {
   "cell_type": "markdown",
   "metadata": {},
   "source": [
    "## Álgebra Linear\n",
    "Álgebra linear, multiplicação de matrizes, decomposição, determinante, e outras operações utilizadas em matrizes são uma parte importante de uma biblioteca de manipulação de arrays. Para realizarmos a multiplicação de duas matrizes podemos utilizar a função **dot** ou **np.dot**."
   ]
  },
  {
   "cell_type": "code",
   "execution_count": 8,
   "metadata": {
    "scrolled": true
   },
   "outputs": [
    {
     "data": {
      "text/plain": [
       "array([2, 3])"
      ]
     },
     "execution_count": 8,
     "metadata": {},
     "output_type": "execute_result"
    }
   ],
   "source": [
    "arr_one = np.array([2, 3])\n",
    "arr_one"
   ]
  },
  {
   "cell_type": "code",
   "execution_count": 10,
   "metadata": {
    "scrolled": true
   },
   "outputs": [
    {
     "data": {
      "text/plain": [
       "array([[3],\n",
       "       [3]])"
      ]
     },
     "execution_count": 10,
     "metadata": {},
     "output_type": "execute_result"
    }
   ],
   "source": [
    "arr_two = np.array([[3], [3]])\n",
    "arr_two"
   ]
  },
  {
   "cell_type": "code",
   "execution_count": 11,
   "metadata": {
    "scrolled": true
   },
   "outputs": [
    {
     "data": {
      "text/plain": [
       "array([15])"
      ]
     },
     "execution_count": 11,
     "metadata": {},
     "output_type": "execute_result"
    }
   ],
   "source": [
    "arr_one.dot(arr_two)"
   ]
  },
  {
   "cell_type": "code",
   "execution_count": 12,
   "metadata": {
    "scrolled": true
   },
   "outputs": [
    {
     "data": {
      "text/plain": [
       "array([15])"
      ]
     },
     "execution_count": 12,
     "metadata": {},
     "output_type": "execute_result"
    }
   ],
   "source": [
    "np.dot(arr_one, arr_two)"
   ]
  },
  {
   "cell_type": "markdown",
   "metadata": {},
   "source": [
    "**numpy.linalg** possui um conjunto de decomposições de matrizes e outras funções como inversas e soluções de sistemas lineares e determinantes."
   ]
  },
  {
   "cell_type": "markdown",
   "metadata": {},
   "source": [
    "<table width=\"100%\">\n",
    "    <thead>\n",
    "        <tr>\n",
    "            <th>Função</th>\n",
    "            <th colspan=3>Descrição</th>\n",
    "        </tr>\n",
    "    </thead>\n",
    "    <tbody>\n",
    "        <tr>\n",
    "            <td><b>diag</b></td>\n",
    "            <td colspan=3>Retorna os elementos da diagonal de uma matriz quadrática como um aray de uma dimensão.</td>\n",
    "        </tr>\n",
    "        <tr>\n",
    "            <td><b>dot</b></td>\n",
    "            <td colspan=3>Multiplicação de matrizes.</td>\n",
    "        </tr>\n",
    "        <tr>\n",
    "            <td><b>trace</b></td>\n",
    "            <td colspan=3>Computa a soma dos elementos da diagonal da matriz.</td>\n",
    "        </tr>\n",
    "        <tr>\n",
    "            <td><b>det</b></td>\n",
    "            <td colspan=3>Computa a determinante da matriz.</td>\n",
    "        </tr>\n",
    "        <tr>\n",
    "            <td><b>eig</b></td>\n",
    "            <td colspan=3>Computa os autovalores e autovetores de uma matriz quadrática.</td>\n",
    "        </tr>\n",
    "        <tr>\n",
    "            <td><b>inv</b></td>\n",
    "            <td colspan=3>Computa a inversa de uma matriz quadrática.</td>\n",
    "        </tr>\n",
    "        <tr>\n",
    "            <td><b>qr</b></td>\n",
    "            <td colspan=3>Computa a decomposição QR.</td>\n",
    "        </tr>\n",
    "        <tr>\n",
    "            <td><b>svd</b></td>\n",
    "            <td colspan=3>Computa a SVD de uma matriz.</td>\n",
    "        </tr>\n",
    "        <tr>\n",
    "            <td><b>solve</b></td>\n",
    "            <td colspan=3>Resolve um sistema linear Ax = b.</td>\n",
    "        </tr>\n",
    "    </tbody>\n",
    "</table>"
   ]
  }
 ],
 "metadata": {
  "kernelspec": {
   "display_name": "Python 3",
   "language": "python",
   "name": "python3"
  },
  "language_info": {
   "codemirror_mode": {
    "name": "ipython",
    "version": 3
   },
   "file_extension": ".py",
   "mimetype": "text/x-python",
   "name": "python",
   "nbconvert_exporter": "python",
   "pygments_lexer": "ipython3",
   "version": "3.7.4"
  }
 },
 "nbformat": 4,
 "nbformat_minor": 2
}
