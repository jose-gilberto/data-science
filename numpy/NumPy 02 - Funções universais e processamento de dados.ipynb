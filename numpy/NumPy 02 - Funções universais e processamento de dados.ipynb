{
 "cells": [
  {
   "cell_type": "code",
   "execution_count": 2,
   "metadata": {},
   "outputs": [],
   "source": [
    "import numpy as np"
   ]
  },
  {
   "cell_type": "markdown",
   "metadata": {},
   "source": [
    "# Funções universais: manipulação dos elementos de forma rápida\n",
    "Uma função universal é uma função que manipula todos os elementos contidos em um array."
   ]
  },
  {
   "cell_type": "code",
   "execution_count": 3,
   "metadata": {},
   "outputs": [
    {
     "data": {
      "text/plain": [
       "array([0, 1, 2, 3, 4, 5, 6, 7, 8, 9])"
      ]
     },
     "execution_count": 3,
     "metadata": {},
     "output_type": "execute_result"
    }
   ],
   "source": [
    "arr = np.arange(10)\n",
    "arr"
   ]
  },
  {
   "cell_type": "code",
   "execution_count": 4,
   "metadata": {},
   "outputs": [
    {
     "data": {
      "text/plain": [
       "array([0.        , 1.        , 1.41421356, 1.73205081, 2.        ,\n",
       "       2.23606798, 2.44948974, 2.64575131, 2.82842712, 3.        ])"
      ]
     },
     "execution_count": 4,
     "metadata": {},
     "output_type": "execute_result"
    }
   ],
   "source": [
    "np.sqrt(arr)"
   ]
  },
  {
   "cell_type": "code",
   "execution_count": 5,
   "metadata": {},
   "outputs": [
    {
     "data": {
      "text/plain": [
       "array([1.00000000e+00, 2.71828183e+00, 7.38905610e+00, 2.00855369e+01,\n",
       "       5.45981500e+01, 1.48413159e+02, 4.03428793e+02, 1.09663316e+03,\n",
       "       2.98095799e+03, 8.10308393e+03])"
      ]
     },
     "execution_count": 5,
     "metadata": {},
     "output_type": "execute_result"
    }
   ],
   "source": [
    "np.exp(arr)"
   ]
  },
  {
   "cell_type": "markdown",
   "metadata": {},
   "source": [
    "Existem funções que recebem escalares como parâmetro e outras recebem dois arrays e retornam um com os máximos de cada posição."
   ]
  },
  {
   "cell_type": "code",
   "execution_count": 6,
   "metadata": {},
   "outputs": [
    {
     "data": {
      "text/plain": [
       "array([ 0.90958867,  1.69429207,  0.61494164, -1.21886048, -0.30383955,\n",
       "       -0.49571623, -0.40673034, -2.01103593])"
      ]
     },
     "execution_count": 6,
     "metadata": {},
     "output_type": "execute_result"
    }
   ],
   "source": [
    "x = np.random.randn(8)\n",
    "x"
   ]
  },
  {
   "cell_type": "code",
   "execution_count": 7,
   "metadata": {},
   "outputs": [
    {
     "data": {
      "text/plain": [
       "array([ 0.41121616,  0.46048895, -0.26247766, -0.97871189, -0.52744911,\n",
       "        0.54537372,  0.57738752,  0.49073544])"
      ]
     },
     "execution_count": 7,
     "metadata": {},
     "output_type": "execute_result"
    }
   ],
   "source": [
    "y = np.random.randn(8)\n",
    "y"
   ]
  },
  {
   "cell_type": "code",
   "execution_count": 8,
   "metadata": {},
   "outputs": [
    {
     "data": {
      "text/plain": [
       "array([ 0.90958867,  1.69429207,  0.61494164, -0.97871189, -0.30383955,\n",
       "        0.54537372,  0.57738752,  0.49073544])"
      ]
     },
     "execution_count": 8,
     "metadata": {},
     "output_type": "execute_result"
    }
   ],
   "source": [
    "np.maximum(x, y)"
   ]
  },
  {
   "cell_type": "markdown",
   "metadata": {},
   "source": [
    "## Processamento de dados usando arrays\n",
    "Os arrays do NumPy permitem que manipulemos os dados contidos neles sem a necessidade de escrever **loops**, essa prática é conhecida também como vetorização. \n",
    "\n",
    "### Expressando lógicas condicionais como operações entre arrays\n",
    "A função **numpy.where** é a função vetorizada da expressão ternária `x if condition else y`. Supondo que temos dois arrays de valores e um de condições:"
   ]
  },
  {
   "cell_type": "code",
   "execution_count": 9,
   "metadata": {},
   "outputs": [
    {
     "data": {
      "text/plain": [
       "array([1.1, 1.2, 1.3, 1.4, 1.5])"
      ]
     },
     "execution_count": 9,
     "metadata": {},
     "output_type": "execute_result"
    }
   ],
   "source": [
    "xarr = np.array([1.1, 1.2, 1.3, 1.4, 1.5])\n",
    "xarr"
   ]
  },
  {
   "cell_type": "code",
   "execution_count": 10,
   "metadata": {},
   "outputs": [
    {
     "data": {
      "text/plain": [
       "array([2.1, 2.2, 2.3, 2.4, 2.5])"
      ]
     },
     "execution_count": 10,
     "metadata": {},
     "output_type": "execute_result"
    }
   ],
   "source": [
    "yarr = np.array([2.1, 2.2, 2.3, 2.4, 2.5])\n",
    "yarr"
   ]
  },
  {
   "cell_type": "code",
   "execution_count": 11,
   "metadata": {},
   "outputs": [
    {
     "data": {
      "text/plain": [
       "array([ True, False,  True,  True, False])"
      ]
     },
     "execution_count": 11,
     "metadata": {},
     "output_type": "execute_result"
    }
   ],
   "source": [
    "cond = np.array([True, False, True, True, False])\n",
    "cond"
   ]
  },
  {
   "cell_type": "code",
   "execution_count": 12,
   "metadata": {},
   "outputs": [
    {
     "data": {
      "text/plain": [
       "[1.1, 2.2, 1.3, 1.4, 2.5]"
      ]
     },
     "execution_count": 12,
     "metadata": {},
     "output_type": "execute_result"
    }
   ],
   "source": [
    "resultado = [(x if c else y)\n",
    "             for x, y, c in zip(xarr, yarr, cond)]\n",
    "resultado"
   ]
  },
  {
   "cell_type": "markdown",
   "metadata": {},
   "source": [
    "Isso possui muitos problemas. Primeiro que não será muito performático para arrays com muitos elementos, principalmente pois grande parte do trabalho está sendo feito em Python puro. Segundo, não irá funcionar com arrays multidimensionais. Com o `np.where` podemos escrever isto de forma muito mais rápida e prática."
   ]
  },
  {
   "cell_type": "code",
   "execution_count": 13,
   "metadata": {},
   "outputs": [
    {
     "data": {
      "text/plain": [
       "array([1.1, 2.2, 1.3, 1.4, 2.5])"
      ]
     },
     "execution_count": 13,
     "metadata": {},
     "output_type": "execute_result"
    }
   ],
   "source": [
    "resultado2 = np.where(cond, xarr, yarr)\n",
    "resultado2"
   ]
  },
  {
   "cell_type": "markdown",
   "metadata": {},
   "source": [
    "### Funções matemáticas e estatísticas\n",
    "Um conjunto de funções matemáticas computa estatísticas sobre um conjunto de elementos contidos no array. Agregações, também chamadas de reduções, como `sum`(somatório), `mean`(média), e o desvio padrão (`std`), podem ser calculados através de funções de um array. "
   ]
  },
  {
   "cell_type": "code",
   "execution_count": 14,
   "metadata": {},
   "outputs": [
    {
     "data": {
      "text/plain": [
       "array([ 0,  1,  2,  3,  4,  5,  6,  7,  8,  9, 10, 11, 12, 13, 14, 15, 16,\n",
       "       17, 18, 19])"
      ]
     },
     "execution_count": 14,
     "metadata": {},
     "output_type": "execute_result"
    }
   ],
   "source": [
    "arr = np.arange(20)\n",
    "arr"
   ]
  },
  {
   "cell_type": "code",
   "execution_count": 15,
   "metadata": {},
   "outputs": [
    {
     "data": {
      "text/plain": [
       "9.5"
      ]
     },
     "execution_count": 15,
     "metadata": {},
     "output_type": "execute_result"
    }
   ],
   "source": [
    "arr.mean()"
   ]
  },
  {
   "cell_type": "code",
   "execution_count": 17,
   "metadata": {
    "scrolled": true
   },
   "outputs": [
    {
     "data": {
      "text/plain": [
       "9.5"
      ]
     },
     "execution_count": 17,
     "metadata": {},
     "output_type": "execute_result"
    }
   ],
   "source": [
    "np.mean(arr)"
   ]
  },
  {
   "cell_type": "code",
   "execution_count": 16,
   "metadata": {},
   "outputs": [
    {
     "data": {
      "text/plain": [
       "190"
      ]
     },
     "execution_count": 16,
     "metadata": {},
     "output_type": "execute_result"
    }
   ],
   "source": [
    "arr.sum()"
   ]
  },
  {
   "cell_type": "markdown",
   "metadata": {},
   "source": [
    "<table width='100%'>\n",
    "    <thead>\n",
    "        <tr>\n",
    "            <th>Método</th>\n",
    "            <th colspan=3>Descrição</th>\n",
    "        </tr>\n",
    "    </thead>\n",
    "    <tbody>\n",
    "        <tr>\n",
    "            <td><b>sum</b></td>\n",
    "            <td colspan=3>Realiza a soma de todos os elementos do array ou ao longo do eixo.</td>\n",
    "        </tr>\n",
    "        <tr>\n",
    "            <td><b>mean</b></td>\n",
    "            <td colspan=3>Média aritmética. Arrays com tamanho 0 possui uma média de NaN.</td>\n",
    "        </tr>\n",
    "        <tr>\n",
    "            <td><b>std, var</b></td>\n",
    "            <td colspan=3>Desvio padrão e variância, respectivamente, com ajuste opcional dos graus de liberdade (denominador padrão n).</td>\n",
    "        </tr>\n",
    "        <tr>\n",
    "            <td><b>min, max</b></td>\n",
    "            <td colspan=3>Calcula o mínimo e o máximo entre os elementos do array.</td>\n",
    "        </tr>\n",
    "        <tr>\n",
    "            <td><b>argmin, argmax</b></td>\n",
    "            <td colspan=3>Indices dos mínimos e máximos do array.</td>\n",
    "        </tr>\n",
    "        <tr>\n",
    "            <td><b>cumsum</b></td>\n",
    "            <td colspan=3>Soma acumulativa dos elementos do array começando por 0.</td>\n",
    "        </tr>\n",
    "        <tr>\n",
    "            <td><b>cumprod</b></td>\n",
    "            <td colspan=3>Produto cumulativo dos elementos do array começando por 1.</td>\n",
    "        </tr>\n",
    "    </tbody>\n",
    "</table>"
   ]
  },
  {
   "cell_type": "markdown",
   "metadata": {},
   "source": [
    "### Métodos para arrays booleanos\n",
    "Os valores booleanos são padronizados como 1(True) e 0(False) nos seguintes métodos. Por exemplo, **sum**\n",
    "oferece uma contagem dos valores True em um array."
   ]
  },
  {
   "cell_type": "code",
   "execution_count": 18,
   "metadata": {},
   "outputs": [
    {
     "data": {
      "text/plain": [
       "array([-0.52180431, -0.22069117, -0.46634079,  1.34602338,  0.89877203,\n",
       "        1.41039823,  0.15469391,  0.26786437, -0.61262782, -0.46903685,\n",
       "       -0.29504206,  1.17536836, -0.7213881 , -1.61249504,  1.75182867,\n",
       "        1.52050587, -0.89220964, -0.434337  ,  1.80661652, -1.93215275,\n",
       "        0.23560365, -0.3175366 ,  0.78242697, -0.81419903,  1.41534319,\n",
       "       -1.25634951, -0.86083832, -1.69573853, -1.35994801,  0.88506952,\n",
       "       -0.92085655,  0.31289466,  1.61698266, -0.22876438,  0.4570779 ,\n",
       "        0.28759502,  0.83927596,  0.34907497,  1.70458847,  0.48686425,\n",
       "       -0.90779132,  0.9858686 ,  0.46726735, -1.10440852, -0.98708665,\n",
       "       -1.46058589, -1.23134851,  0.93003045,  2.35556265, -1.48082418,\n",
       "        0.09073433,  1.00386686, -0.89743459, -0.53056863, -0.82756999,\n",
       "       -0.07883946, -1.59304301, -0.45616986, -1.17258586, -0.532522  ,\n",
       "        0.54740264, -0.0884413 , -1.52652158, -0.50217706,  1.11098779,\n",
       "        0.81885116, -1.28127434, -0.60517093, -0.13539696, -0.28916739,\n",
       "       -0.24365486,  1.17178738, -0.27320459,  0.46482532,  0.80994482,\n",
       "       -0.42875172, -1.38784547, -3.38256465,  0.20055252, -0.93328579,\n",
       "       -0.60066635, -1.13449157,  2.22651444, -0.58401968, -0.36673363,\n",
       "       -0.85498205,  0.39953861, -1.22239903, -0.14649417,  1.3540558 ,\n",
       "       -2.96570544,  0.37438854, -1.30171022,  1.0086081 ,  1.31284696,\n",
       "        1.2820237 ,  0.0447139 ,  0.38389555,  0.8613306 ,  1.00981727])"
      ]
     },
     "execution_count": 18,
     "metadata": {},
     "output_type": "execute_result"
    }
   ],
   "source": [
    "arr = np.random.randn(100)\n",
    "arr"
   ]
  },
  {
   "cell_type": "code",
   "execution_count": 20,
   "metadata": {},
   "outputs": [
    {
     "data": {
      "text/plain": [
       "45"
      ]
     },
     "execution_count": 20,
     "metadata": {},
     "output_type": "execute_result"
    }
   ],
   "source": [
    "(arr > 0).sum()"
   ]
  },
  {
   "cell_type": "markdown",
   "metadata": {},
   "source": [
    "Os métodos **any** e **all**, checam se no array há ao menos um valor True ou se todos os valores são True, respectivamente, e por fim retornam se a condição foi aceita."
   ]
  },
  {
   "cell_type": "code",
   "execution_count": 22,
   "metadata": {},
   "outputs": [
    {
     "data": {
      "text/plain": [
       "array([ True, False,  True,  True, False,  True])"
      ]
     },
     "execution_count": 22,
     "metadata": {},
     "output_type": "execute_result"
    }
   ],
   "source": [
    "bools = np.array([True, False, True, True, False, True])\n",
    "bools"
   ]
  },
  {
   "cell_type": "code",
   "execution_count": 23,
   "metadata": {},
   "outputs": [
    {
     "data": {
      "text/plain": [
       "True"
      ]
     },
     "execution_count": 23,
     "metadata": {},
     "output_type": "execute_result"
    }
   ],
   "source": [
    "bools.any()"
   ]
  },
  {
   "cell_type": "code",
   "execution_count": 24,
   "metadata": {},
   "outputs": [
    {
     "data": {
      "text/plain": [
       "False"
      ]
     },
     "execution_count": 24,
     "metadata": {},
     "output_type": "execute_result"
    }
   ],
   "source": [
    "bools.all()"
   ]
  },
  {
   "cell_type": "markdown",
   "metadata": {},
   "source": [
    "## Ordenação\n",
    "Como nas listas do Python, os arrays do NumPy podem ser ordenados utilizando o método `sort`."
   ]
  },
  {
   "cell_type": "code",
   "execution_count": 25,
   "metadata": {},
   "outputs": [
    {
     "data": {
      "text/plain": [
       "array([2, 1, 6, 3, 4, 5])"
      ]
     },
     "execution_count": 25,
     "metadata": {},
     "output_type": "execute_result"
    }
   ],
   "source": [
    "arr = np.array([2, 1, 6, 3, 4, 5])\n",
    "arr"
   ]
  },
  {
   "cell_type": "code",
   "execution_count": 27,
   "metadata": {},
   "outputs": [
    {
     "data": {
      "text/plain": [
       "array([1, 2, 3, 4, 5, 6])"
      ]
     },
     "execution_count": 27,
     "metadata": {},
     "output_type": "execute_result"
    }
   ],
   "source": [
    "arr.sort()\n",
    "arr"
   ]
  },
  {
   "cell_type": "markdown",
   "metadata": {},
   "source": [
    "Podemos determinar a forma como a ordenação será executada em arrays multidimensionais passando o número do eixo a qual a ordenação será aplicada."
   ]
  },
  {
   "cell_type": "code",
   "execution_count": 28,
   "metadata": {},
   "outputs": [
    {
     "data": {
      "text/plain": [
       "array([[6, 2, 3],\n",
       "       [1, 5, 9]])"
      ]
     },
     "execution_count": 28,
     "metadata": {},
     "output_type": "execute_result"
    }
   ],
   "source": [
    "arr = np.array([[6, 2, 3],[1, 5, 9]])\n",
    "arr"
   ]
  },
  {
   "cell_type": "code",
   "execution_count": 29,
   "metadata": {},
   "outputs": [
    {
     "data": {
      "text/plain": [
       "array([[2, 3, 6],\n",
       "       [1, 5, 9]])"
      ]
     },
     "execution_count": 29,
     "metadata": {},
     "output_type": "execute_result"
    }
   ],
   "source": [
    "arr.sort(1)\n",
    "arr"
   ]
  },
  {
   "cell_type": "markdown",
   "metadata": {},
   "source": [
    "## Unique e outras lógicas de conjuntos\n",
    "O NumPy tem muitas funções para tratamento de conjuntos (set), a mais comumente utilizada é a função `np.unique`, que retorna um array ordenado de valores unicos."
   ]
  },
  {
   "cell_type": "code",
   "execution_count": 30,
   "metadata": {},
   "outputs": [
    {
     "data": {
      "text/plain": [
       "array(['Bob', 'Mei', 'Bob', 'Mimi', 'Mimi', 'Bob'], dtype='<U4')"
      ]
     },
     "execution_count": 30,
     "metadata": {},
     "output_type": "execute_result"
    }
   ],
   "source": [
    "nomes = np.array(['Bob', 'Mei', 'Bob', 'Mimi', 'Mimi', 'Bob'])\n",
    "nomes"
   ]
  },
  {
   "cell_type": "code",
   "execution_count": 31,
   "metadata": {},
   "outputs": [
    {
     "data": {
      "text/plain": [
       "array(['Bob', 'Mei', 'Mimi'], dtype='<U4')"
      ]
     },
     "execution_count": 31,
     "metadata": {},
     "output_type": "execute_result"
    }
   ],
   "source": [
    "np.unique(nomes)"
   ]
  },
  {
   "cell_type": "markdown",
   "metadata": {},
   "source": [
    "Outra função, `np.in1d`, testa se os elementos de um array estão contidos no outro,\n",
    "retornando assim um array de valores booleanos:"
   ]
  },
  {
   "cell_type": "code",
   "execution_count": 32,
   "metadata": {},
   "outputs": [
    {
     "data": {
      "text/plain": [
       "array([1, 2, 3, 4, 5, 6, 7, 8, 9])"
      ]
     },
     "execution_count": 32,
     "metadata": {},
     "output_type": "execute_result"
    }
   ],
   "source": [
    "arr = np.array([1, 2, 3, 4, 5, 6, 7, 8, 9])\n",
    "arr"
   ]
  },
  {
   "cell_type": "code",
   "execution_count": 34,
   "metadata": {},
   "outputs": [
    {
     "data": {
      "text/plain": [
       "array([False,  True,  True, False, False,  True, False, False, False])"
      ]
     },
     "execution_count": 34,
     "metadata": {},
     "output_type": "execute_result"
    }
   ],
   "source": [
    "np.in1d(arr, [2, 3, 6])"
   ]
  },
  {
   "cell_type": "markdown",
   "metadata": {},
   "source": [
    "<table width='100%'>\n",
    "    <thead>\n",
    "        <tr>\n",
    "            <th>Método</th>\n",
    "            <th colspan=3>Descrição</th>\n",
    "        </tr>\n",
    "    </thead>\n",
    "    <tbody>\n",
    "        <tr>\n",
    "            <td><b>unique(x)</b></td>\n",
    "            <td colspan=3>Computa a ordenação de elementos únicos em x.</td>\n",
    "        </tr>\n",
    "        <tr>\n",
    "            <td><b>intersect1d(x, y)</b></td>\n",
    "            <td colspan=3>Computa a ordenação dos elementos comuns em x, y.</td>\n",
    "        </tr>\n",
    "        <tr>\n",
    "            <td><b>union1d(x, y)</b></td>\n",
    "            <td colspan=3>Computa a ordenação da união do elementos.</td>\n",
    "        </tr>\n",
    "        <tr>\n",
    "            <td><b>in1d(x, y)</b></td>\n",
    "            <td colspan=3>Conjunto booleano indicando os elementos que estão em x e não estão em y.</td>\n",
    "        </tr>\n",
    "        <tr>\n",
    "            <td><b>setdiff1d(x, y</b></td>\n",
    "            <td colspan=3>.</td>\n",
    "        </tr>\n",
    "        <tr>\n",
    "            <td><b>cumsum</b></td>\n",
    "            <td colspan=3>Soma acumulativa dos elementos do array começando por 0.</td>\n",
    "        </tr>\n",
    "        <tr>\n",
    "            <td><b>cumprod</b></td>\n",
    "            <td colspan=3>Produto cumulativo dos elementos do array começando por 1.</td>\n",
    "        </tr>\n",
    "    </tbody>\n",
    "</table>"
   ]
  }
 ],
 "metadata": {
  "kernelspec": {
   "display_name": "Python 3",
   "language": "python",
   "name": "python3"
  },
  "language_info": {
   "codemirror_mode": {
    "name": "ipython",
    "version": 3
   },
   "file_extension": ".py",
   "mimetype": "text/x-python",
   "name": "python",
   "nbconvert_exporter": "python",
   "pygments_lexer": "ipython3",
   "version": "3.7.4"
  }
 },
 "nbformat": 4,
 "nbformat_minor": 2
}
