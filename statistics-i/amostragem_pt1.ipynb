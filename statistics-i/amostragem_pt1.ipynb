{
  "nbformat": 4,
  "nbformat_minor": 0,
  "metadata": {
    "colab": {
      "name": "amostragem_pt1.ipynb",
      "provenance": []
    },
    "kernelspec": {
      "name": "python3",
      "display_name": "Python 3"
    }
  },
  "cells": [
    {
      "cell_type": "markdown",
      "metadata": {
        "id": "yY_Pm2RC1nU8",
        "colab_type": "text"
      },
      "source": [
        "### Importando bibliotecas\n",
        "* Pandas é utilizado para manipulação dos dados, fornecendo estruturas de dados prontas e funções para leitura de arquivos implementadas de forma eficiente e fácil de se utilizar;\n",
        "* O numpy fornece funções matemáticas utilizadas para performar operações matemáticas de forma eficiente;"
      ]
    },
    {
      "cell_type": "code",
      "metadata": {
        "id": "IhlSP3mx1dDU",
        "colab_type": "code",
        "colab": {}
      },
      "source": [
        "import pandas as pd\n",
        "import numpy as np"
      ],
      "execution_count": 0,
      "outputs": []
    },
    {
      "cell_type": "markdown",
      "metadata": {
        "id": "-G2vM5YC1twQ",
        "colab_type": "text"
      },
      "source": [
        "### Lendo as informações do data set com o pandas\n",
        "* A função `read_csv` do pandas recebe como parâmetro o link para o dataset e armazena em uma variável para ser manipulado posteriormente;\n",
        "* A função `head` do dataframe (estrutura de dados que armazena o retorno da função `read_csv`) retorna as 5 primeiras linhas do nosso data frame bem como os nomes de suas colunas e seus respectivos indices;"
      ]
    },
    {
      "cell_type": "code",
      "metadata": {
        "id": "OEVgoH641rus",
        "colab_type": "code",
        "colab": {
          "base_uri": "https://localhost:8080/",
          "height": 195
        },
        "outputId": "a949be23-fd17-4542-8f4f-52a85486f14e"
      },
      "source": [
        "df = pd.read_csv('https://raw.githubusercontent.com/jose-gilberto/data-science/master/datasets/iris.csv?token=AHYUBH4ZMOZJIWMAOU42V4C5U6TG4')\n",
        "df.head() # Exibe as primeiras 5 linhas do dataframe"
      ],
      "execution_count": 2,
      "outputs": [
        {
          "output_type": "execute_result",
          "data": {
            "text/html": [
              "<div>\n",
              "<style scoped>\n",
              "    .dataframe tbody tr th:only-of-type {\n",
              "        vertical-align: middle;\n",
              "    }\n",
              "\n",
              "    .dataframe tbody tr th {\n",
              "        vertical-align: top;\n",
              "    }\n",
              "\n",
              "    .dataframe thead th {\n",
              "        text-align: right;\n",
              "    }\n",
              "</style>\n",
              "<table border=\"1\" class=\"dataframe\">\n",
              "  <thead>\n",
              "    <tr style=\"text-align: right;\">\n",
              "      <th></th>\n",
              "      <th>sepal_length</th>\n",
              "      <th>sepal_width</th>\n",
              "      <th>petal_length</th>\n",
              "      <th>petal_width</th>\n",
              "      <th>species</th>\n",
              "    </tr>\n",
              "  </thead>\n",
              "  <tbody>\n",
              "    <tr>\n",
              "      <th>0</th>\n",
              "      <td>5.1</td>\n",
              "      <td>3.5</td>\n",
              "      <td>1.4</td>\n",
              "      <td>0.2</td>\n",
              "      <td>setosa</td>\n",
              "    </tr>\n",
              "    <tr>\n",
              "      <th>1</th>\n",
              "      <td>4.9</td>\n",
              "      <td>3.0</td>\n",
              "      <td>1.4</td>\n",
              "      <td>0.2</td>\n",
              "      <td>setosa</td>\n",
              "    </tr>\n",
              "    <tr>\n",
              "      <th>2</th>\n",
              "      <td>4.7</td>\n",
              "      <td>3.2</td>\n",
              "      <td>1.3</td>\n",
              "      <td>0.2</td>\n",
              "      <td>setosa</td>\n",
              "    </tr>\n",
              "    <tr>\n",
              "      <th>3</th>\n",
              "      <td>4.6</td>\n",
              "      <td>3.1</td>\n",
              "      <td>1.5</td>\n",
              "      <td>0.2</td>\n",
              "      <td>setosa</td>\n",
              "    </tr>\n",
              "    <tr>\n",
              "      <th>4</th>\n",
              "      <td>5.0</td>\n",
              "      <td>3.6</td>\n",
              "      <td>1.4</td>\n",
              "      <td>0.2</td>\n",
              "      <td>setosa</td>\n",
              "    </tr>\n",
              "  </tbody>\n",
              "</table>\n",
              "</div>"
            ],
            "text/plain": [
              "   sepal_length  sepal_width  petal_length  petal_width species\n",
              "0           5.1          3.5           1.4          0.2  setosa\n",
              "1           4.9          3.0           1.4          0.2  setosa\n",
              "2           4.7          3.2           1.3          0.2  setosa\n",
              "3           4.6          3.1           1.5          0.2  setosa\n",
              "4           5.0          3.6           1.4          0.2  setosa"
            ]
          },
          "metadata": {
            "tags": []
          },
          "execution_count": 2
        }
      ]
    },
    {
      "cell_type": "code",
      "metadata": {
        "id": "GqCREyVk2DcO",
        "colab_type": "code",
        "colab": {
          "base_uri": "https://localhost:8080/",
          "height": 34
        },
        "outputId": "33a75f9b-3d71-4bcb-9e4a-3c47ac9caa3c"
      },
      "source": [
        "df.shape # Exibe a quantidade de linhas e colunas do dataframe"
      ],
      "execution_count": 4,
      "outputs": [
        {
          "output_type": "execute_result",
          "data": {
            "text/plain": [
              "(150, 5)"
            ]
          },
          "metadata": {
            "tags": []
          },
          "execution_count": 4
        }
      ]
    },
    {
      "cell_type": "markdown",
      "metadata": {
        "id": "h-nUJ3td2Nvd",
        "colab_type": "text"
      },
      "source": [
        "### Criando uma amostra a partir do dataframe\n",
        "Para a criação da amostra foi utilizado o método de amostragem simples, utilizando a função `random.choice` do numpy, onde:\n",
        "* O parâmetro **a** significa quais opções podem ser geradas a partir da função (0 para não selecionado e 1 para selecionado para a amostra).\n",
        "* O parâmetro **size** determina o tamanho do array que será gerado.\n",
        "* O parâmetro **replace** determina se a amostragem será com reposição ou sem reposição para os 0s e 1s. (Neste caso a amostragem não é com reposição porém a geração dos 0s e 1s é feita com reposição ou teríamos uma linha com 0 outra com 1 e depois seria impossível gerar novos valores).\n",
        "* O parâmetro **p** determina a probabilidade de serem escolhidos os 0s e 1s, nesse caso 50% para cada, ou seja, chances iguais (a soma das chances precisa ser necessariamente igual a 1)."
      ]
    },
    {
      "cell_type": "code",
      "metadata": {
        "id": "sWHzwH492MxU",
        "colab_type": "code",
        "colab": {
          "base_uri": "https://localhost:8080/",
          "height": 140
        },
        "outputId": "000e14c5-7d82-4025-bf5f-b4b742a81f13"
      },
      "source": [
        "# Gerando 150 linhas de 0s ou 1s com reposição para definir as linhas do dataframe que farão parte da amostra\n",
        "amostra = np.random.choice(a = [0,1], size = 150, replace = True, p = [.5,.5])\n",
        "amostra"
      ],
      "execution_count": 7,
      "outputs": [
        {
          "output_type": "execute_result",
          "data": {
            "text/plain": [
              "array([0, 1, 0, 0, 1, 0, 0, 1, 1, 0, 1, 0, 1, 0, 0, 1, 0, 0, 0, 0, 0, 0,\n",
              "       1, 1, 1, 0, 0, 1, 0, 1, 0, 0, 1, 1, 1, 1, 1, 1, 1, 1, 1, 0, 0, 1,\n",
              "       1, 1, 0, 0, 0, 1, 1, 1, 0, 0, 0, 0, 1, 1, 0, 1, 0, 1, 1, 0, 0, 1,\n",
              "       1, 0, 0, 1, 1, 0, 1, 0, 0, 0, 1, 0, 0, 0, 1, 1, 0, 0, 1, 1, 1, 1,\n",
              "       1, 0, 0, 0, 1, 1, 1, 0, 1, 0, 0, 1, 1, 0, 0, 1, 1, 1, 1, 0, 1, 1,\n",
              "       1, 1, 0, 1, 0, 1, 1, 0, 0, 0, 0, 1, 1, 1, 1, 0, 0, 0, 1, 0, 1, 0,\n",
              "       0, 0, 1, 0, 1, 1, 1, 0, 0, 0, 1, 1, 1, 0, 1, 0, 0, 1])"
            ]
          },
          "metadata": {
            "tags": []
          },
          "execution_count": 7
        }
      ]
    },
    {
      "cell_type": "code",
      "metadata": {
        "id": "U1bIQIFA3QOZ",
        "colab_type": "code",
        "colab": {
          "base_uri": "https://localhost:8080/",
          "height": 70
        },
        "outputId": "f9fbae98-5b00-42f6-d047-c1a9ec81d1b7"
      },
      "source": [
        "print('Tamanho da amostra: {}'.format(len(amostra)))\n",
        "print('Quantidade de 1s na amostra: {}'.format(len(amostra[amostra == 1])))\n",
        "print('Quantidade de 0s na amostra: {}'.format(len(amostra[amostra == 0])))"
      ],
      "execution_count": 9,
      "outputs": [
        {
          "output_type": "stream",
          "text": [
            "Tamanho da amostra: 150\n",
            "Quantidade de 1s na amostra: 77\n",
            "Quantidade de 0s na amostra: 73\n"
          ],
          "name": "stdout"
        }
      ]
    },
    {
      "cell_type": "code",
      "metadata": {
        "id": "INWsVNvx31Zi",
        "colab_type": "code",
        "colab": {}
      },
      "source": [
        "# np.random.seed(2345) Comando utilizado para escolher uma semente random"
      ],
      "execution_count": 0,
      "outputs": []
    },
    {
      "cell_type": "markdown",
      "metadata": {
        "id": "XQlxAjIj4FZT",
        "colab_type": "text"
      },
      "source": [
        "### Extraindo as linhas escolhidas do dataframe"
      ]
    },
    {
      "cell_type": "code",
      "metadata": {
        "id": "NwezzaHd4EeX",
        "colab_type": "code",
        "colab": {}
      },
      "source": [
        "# Salvando os indices que não fazem parte da amostra em uma variável\n",
        "indices = []\n",
        "for i in range(len(amostra)):\n",
        "    if amostra[i] == 0:\n",
        "        indices.append(i)"
      ],
      "execution_count": 0,
      "outputs": []
    },
    {
      "cell_type": "code",
      "metadata": {
        "id": "JgRClEue8Ift",
        "colab_type": "code",
        "colab": {
          "base_uri": "https://localhost:8080/",
          "height": 195
        },
        "outputId": "0a6ba792-2657-44d4-f2dc-05d38628fe9b"
      },
      "source": [
        "df_amostra = df.copy() # Copiando o dataframe para o da amostra\n",
        "df_amostra.drop(indices).head() # Removendo os indices que não fazem parte do dataframe da amostra"
      ],
      "execution_count": 25,
      "outputs": [
        {
          "output_type": "execute_result",
          "data": {
            "text/html": [
              "<div>\n",
              "<style scoped>\n",
              "    .dataframe tbody tr th:only-of-type {\n",
              "        vertical-align: middle;\n",
              "    }\n",
              "\n",
              "    .dataframe tbody tr th {\n",
              "        vertical-align: top;\n",
              "    }\n",
              "\n",
              "    .dataframe thead th {\n",
              "        text-align: right;\n",
              "    }\n",
              "</style>\n",
              "<table border=\"1\" class=\"dataframe\">\n",
              "  <thead>\n",
              "    <tr style=\"text-align: right;\">\n",
              "      <th></th>\n",
              "      <th>sepal_length</th>\n",
              "      <th>sepal_width</th>\n",
              "      <th>petal_length</th>\n",
              "      <th>petal_width</th>\n",
              "      <th>species</th>\n",
              "    </tr>\n",
              "  </thead>\n",
              "  <tbody>\n",
              "    <tr>\n",
              "      <th>1</th>\n",
              "      <td>4.9</td>\n",
              "      <td>3.0</td>\n",
              "      <td>1.4</td>\n",
              "      <td>0.2</td>\n",
              "      <td>setosa</td>\n",
              "    </tr>\n",
              "    <tr>\n",
              "      <th>4</th>\n",
              "      <td>5.0</td>\n",
              "      <td>3.6</td>\n",
              "      <td>1.4</td>\n",
              "      <td>0.2</td>\n",
              "      <td>setosa</td>\n",
              "    </tr>\n",
              "    <tr>\n",
              "      <th>7</th>\n",
              "      <td>5.0</td>\n",
              "      <td>3.4</td>\n",
              "      <td>1.5</td>\n",
              "      <td>0.2</td>\n",
              "      <td>setosa</td>\n",
              "    </tr>\n",
              "    <tr>\n",
              "      <th>8</th>\n",
              "      <td>4.4</td>\n",
              "      <td>2.9</td>\n",
              "      <td>1.4</td>\n",
              "      <td>0.2</td>\n",
              "      <td>setosa</td>\n",
              "    </tr>\n",
              "    <tr>\n",
              "      <th>10</th>\n",
              "      <td>5.4</td>\n",
              "      <td>3.7</td>\n",
              "      <td>1.5</td>\n",
              "      <td>0.2</td>\n",
              "      <td>setosa</td>\n",
              "    </tr>\n",
              "  </tbody>\n",
              "</table>\n",
              "</div>"
            ],
            "text/plain": [
              "    sepal_length  sepal_width  petal_length  petal_width species\n",
              "1            4.9          3.0           1.4          0.2  setosa\n",
              "4            5.0          3.6           1.4          0.2  setosa\n",
              "7            5.0          3.4           1.5          0.2  setosa\n",
              "8            4.4          2.9           1.4          0.2  setosa\n",
              "10           5.4          3.7           1.5          0.2  setosa"
            ]
          },
          "metadata": {
            "tags": []
          },
          "execution_count": 25
        }
      ]
    }
  ]
}