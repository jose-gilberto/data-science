{
  "nbformat": 4,
  "nbformat_minor": 0,
  "metadata": {
    "colab": {
      "name": "amostragem_pt3.ipynb",
      "provenance": []
    },
    "kernelspec": {
      "name": "python3",
      "display_name": "Python 3"
    }
  },
  "cells": [
    {
      "cell_type": "markdown",
      "metadata": {
        "id": "FCgNcsGU377V",
        "colab_type": "text"
      },
      "source": [
        "### Importando bibliotecas\n",
        "* Importando pandas e numpy que já foram utilizados anteriormente;\n",
        "* Importando a função `ceil` da biblioteca `math` para calcular o teto de um valor real;"
      ]
    },
    {
      "cell_type": "code",
      "metadata": {
        "id": "O5G7-J7bfJlq",
        "colab_type": "code",
        "colab": {}
      },
      "source": [
        "import numpy as np\n",
        "import pandas as pd\n",
        "from math import ceil"
      ],
      "execution_count": 0,
      "outputs": []
    },
    {
      "cell_type": "markdown",
      "metadata": {
        "id": "8kgbviOE4eo2",
        "colab_type": "text"
      },
      "source": [
        "### Calculando o valor de `k` com base na população e amostra"
      ]
    },
    {
      "cell_type": "code",
      "metadata": {
        "id": "72SerMiJfRSb",
        "colab_type": "code",
        "outputId": "600e6fa6-2f62-4646-9c05-948fd619af82",
        "colab": {
          "base_uri": "https://localhost:8080/",
          "height": 52
        }
      },
      "source": [
        "populacao = 150\n",
        "amostra = 15\n",
        "k = populacao/amostra\n",
        "print('K antes do arredondamento: {}'.format(k))\n",
        "k = ceil(k)\n",
        "print('K após do arredondamento: {}'.format(k))"
      ],
      "execution_count": 0,
      "outputs": [
        {
          "output_type": "stream",
          "text": [
            "K antes do arredondamento: 10.0\n",
            "K após do arredondamento: 10\n"
          ],
          "name": "stdout"
        }
      ]
    },
    {
      "cell_type": "markdown",
      "metadata": {
        "id": "ZiL9enh64ln8",
        "colab_type": "text"
      },
      "source": [
        "### Gerando um valor aleatório entre 1 e `k`"
      ]
    },
    {
      "cell_type": "code",
      "metadata": {
        "id": "CZmSJcQ6fxZh",
        "colab_type": "code",
        "outputId": "61cf951a-091e-44bc-a6a0-8c142c08b371",
        "colab": {
          "base_uri": "https://localhost:8080/",
          "height": 34
        }
      },
      "source": [
        "r = np.random.randint(low=1, high=k+1, size=1)\n",
        "print(r)"
      ],
      "execution_count": 0,
      "outputs": [
        {
          "output_type": "stream",
          "text": [
            "[7]\n"
          ],
          "name": "stdout"
        }
      ]
    },
    {
      "cell_type": "markdown",
      "metadata": {
        "id": "Ze9-B6aX4pYt",
        "colab_type": "text"
      },
      "source": [
        "### Criando um array de sorteados\n",
        "O array de valores sorteados para cada posição i da amostra entre (0 e n) receberá um valor de k somado i vezes."
      ]
    },
    {
      "cell_type": "code",
      "metadata": {
        "id": "4cbTU18WgYGJ",
        "colab_type": "code",
        "outputId": "46f46ebf-a7f3-4881-e96f-6ee7e5220f1a",
        "colab": {
          "base_uri": "https://localhost:8080/",
          "height": 34
        }
      },
      "source": [
        "acumulador = r[0]\n",
        "\n",
        "sorteados = []\n",
        "\n",
        "for i in range(amostra):\n",
        "    sorteados.append(acumulador)\n",
        "    acumulador += k\n",
        "    \n",
        "sorteados"
      ],
      "execution_count": 0,
      "outputs": [
        {
          "output_type": "execute_result",
          "data": {
            "text/plain": [
              "[7, 17, 27, 37, 47, 57, 67, 77, 87, 97, 107, 117, 127, 137, 147]"
            ]
          },
          "metadata": {
            "tags": []
          },
          "execution_count": 18
        }
      ]
    },
    {
      "cell_type": "markdown",
      "metadata": {
        "id": "eO_3078I47st",
        "colab_type": "text"
      },
      "source": [
        "### Criando a amostra a partir de um dataframe\n",
        "Retira da população a amostra utilizando o `.loc` do dataframe e passando como indices os sorteados para fazerem parte da amostra."
      ]
    },
    {
      "cell_type": "code",
      "metadata": {
        "id": "a-TrGzclhMHG",
        "colab_type": "code",
        "outputId": "0ae255c5-40cb-40e9-de25-06cf4c7ab9db",
        "colab": {
          "base_uri": "https://localhost:8080/",
          "height": 195
        }
      },
      "source": [
        "df = pd.read_csv('https://raw.githubusercontent.com/jose-gilberto/data-science/master/datasets/iris.csv')\n",
        "df_amostra = df.loc[sorteados]\n",
        "df_amostra.head()"
      ],
      "execution_count": 0,
      "outputs": [
        {
          "output_type": "execute_result",
          "data": {
            "text/html": [
              "<div>\n",
              "<style scoped>\n",
              "    .dataframe tbody tr th:only-of-type {\n",
              "        vertical-align: middle;\n",
              "    }\n",
              "\n",
              "    .dataframe tbody tr th {\n",
              "        vertical-align: top;\n",
              "    }\n",
              "\n",
              "    .dataframe thead th {\n",
              "        text-align: right;\n",
              "    }\n",
              "</style>\n",
              "<table border=\"1\" class=\"dataframe\">\n",
              "  <thead>\n",
              "    <tr style=\"text-align: right;\">\n",
              "      <th></th>\n",
              "      <th>sepal_length</th>\n",
              "      <th>sepal_width</th>\n",
              "      <th>petal_length</th>\n",
              "      <th>petal_width</th>\n",
              "      <th>species</th>\n",
              "    </tr>\n",
              "  </thead>\n",
              "  <tbody>\n",
              "    <tr>\n",
              "      <th>7</th>\n",
              "      <td>5.0</td>\n",
              "      <td>3.4</td>\n",
              "      <td>1.5</td>\n",
              "      <td>0.2</td>\n",
              "      <td>setosa</td>\n",
              "    </tr>\n",
              "    <tr>\n",
              "      <th>17</th>\n",
              "      <td>5.1</td>\n",
              "      <td>3.5</td>\n",
              "      <td>1.4</td>\n",
              "      <td>0.3</td>\n",
              "      <td>setosa</td>\n",
              "    </tr>\n",
              "    <tr>\n",
              "      <th>27</th>\n",
              "      <td>5.2</td>\n",
              "      <td>3.5</td>\n",
              "      <td>1.5</td>\n",
              "      <td>0.2</td>\n",
              "      <td>setosa</td>\n",
              "    </tr>\n",
              "    <tr>\n",
              "      <th>37</th>\n",
              "      <td>4.9</td>\n",
              "      <td>3.1</td>\n",
              "      <td>1.5</td>\n",
              "      <td>0.1</td>\n",
              "      <td>setosa</td>\n",
              "    </tr>\n",
              "    <tr>\n",
              "      <th>47</th>\n",
              "      <td>4.6</td>\n",
              "      <td>3.2</td>\n",
              "      <td>1.4</td>\n",
              "      <td>0.2</td>\n",
              "      <td>setosa</td>\n",
              "    </tr>\n",
              "  </tbody>\n",
              "</table>\n",
              "</div>"
            ],
            "text/plain": [
              "    sepal_length  sepal_width  petal_length  petal_width species\n",
              "7            5.0          3.4           1.5          0.2  setosa\n",
              "17           5.1          3.5           1.4          0.3  setosa\n",
              "27           5.2          3.5           1.5          0.2  setosa\n",
              "37           4.9          3.1           1.5          0.1  setosa\n",
              "47           4.6          3.2           1.4          0.2  setosa"
            ]
          },
          "metadata": {
            "tags": []
          },
          "execution_count": 20
        }
      ]
    }
  ]
}