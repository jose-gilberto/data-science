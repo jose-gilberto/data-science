{
  "nbformat": 4,
  "nbformat_minor": 0,
  "metadata": {
    "colab": {
      "name": "medidas_posicao_dispersao_pt1.ipynb",
      "provenance": []
    },
    "kernelspec": {
      "name": "python3",
      "display_name": "Python 3"
    }
  },
  "cells": [
    {
      "cell_type": "markdown",
      "metadata": {
        "id": "MalGldUX4xjh",
        "colab_type": "text"
      },
      "source": [
        "### Importando bibliotecas\n",
        "* Numpy é utilizado para aplicação operações matemáticas com alta performance;\n",
        "* Stats é utilizado para cálculos estatísticos;"
      ]
    },
    {
      "cell_type": "code",
      "metadata": {
        "id": "8sZi_VW8zoK7",
        "colab_type": "code",
        "colab": {}
      },
      "source": [
        "import numpy as np\n",
        "from scipy import stats"
      ],
      "execution_count": 0,
      "outputs": []
    },
    {
      "cell_type": "markdown",
      "metadata": {
        "id": "G9-5dcOf9iJW",
        "colab_type": "text"
      },
      "source": [
        "### Criando a base de dados a ser explorada\n",
        "A base de dados utilizada aqui é um array simples com os valores dos salários dos jogadores de um time fictício de futebol."
      ]
    },
    {
      "cell_type": "code",
      "metadata": {
        "id": "LzpHHQH1z2Jm",
        "colab_type": "code",
        "outputId": "151c7fe1-a29f-4770-b7b0-8d2d9c28064a",
        "colab": {
          "base_uri": "https://localhost:8080/",
          "height": 34
        }
      },
      "source": [
        "jogadores = [40000, 18000, 12000, 250000, 30000, 140000, 300000, 40000, 800000]\n",
        "jogadores"
      ],
      "execution_count": 0,
      "outputs": [
        {
          "output_type": "execute_result",
          "data": {
            "text/plain": [
              "[40000, 18000, 12000, 250000, 30000, 140000, 300000, 40000, 800000]"
            ]
          },
          "metadata": {
            "tags": []
          },
          "execution_count": 5
        }
      ]
    },
    {
      "cell_type": "markdown",
      "metadata": {
        "id": "_Hs-_I1S-XjV",
        "colab_type": "text"
      },
      "source": [
        "### Calculando a média dos salários\n",
        "Para calcular a média podemos utilizar a função `mean` do Numpy passando como parâmetro nosso array com os salários."
      ]
    },
    {
      "cell_type": "code",
      "metadata": {
        "id": "OfMn_8Uj0PCN",
        "colab_type": "code",
        "outputId": "b5c6e003-2631-43b6-f01c-900b4fb67f93",
        "colab": {
          "base_uri": "https://localhost:8080/",
          "height": 34
        }
      },
      "source": [
        "np.mean(jogadores)"
      ],
      "execution_count": 0,
      "outputs": [
        {
          "output_type": "execute_result",
          "data": {
            "text/plain": [
              "181111.11111111112"
            ]
          },
          "metadata": {
            "tags": []
          },
          "execution_count": 6
        }
      ]
    },
    {
      "cell_type": "markdown",
      "metadata": {
        "id": "hy63mFMx-ugS",
        "colab_type": "text"
      },
      "source": [
        "### Calculando a mediana dos salários\n",
        "Para calcular a mediana é como a média porém a função utilizada é a `median`. Vale ressaltar, agora que temos os resultados de ambas, a diferença entre a média e a mediana. A mediana nos dá um valor central, mais realístico, sobre os nossos dados, enquanto a média pode ser facilmente distorcida por um valor muito alto ou muito baixo se comparado com os outros."
      ]
    },
    {
      "cell_type": "code",
      "metadata": {
        "id": "Roewpe7A0gtY",
        "colab_type": "code",
        "outputId": "30ed6f88-237e-4141-9532-dc6847aa88c4",
        "colab": {
          "base_uri": "https://localhost:8080/",
          "height": 34
        }
      },
      "source": [
        "np.median(jogadores)"
      ],
      "execution_count": 0,
      "outputs": [
        {
          "output_type": "execute_result",
          "data": {
            "text/plain": [
              "40000.0"
            ]
          },
          "metadata": {
            "tags": []
          },
          "execution_count": 7
        }
      ]
    },
    {
      "cell_type": "markdown",
      "metadata": {
        "id": "RFGv-hV2_d1D",
        "colab_type": "text"
      },
      "source": [
        "### Calculando os quartis\n",
        "Para o cálculo dos quartis utilizamos a função `quantile` do Numpy e passamos dois parâmetros:\n",
        "* Nosso array de valores;\n",
        "* Os valores entre [0,1] referentes aos quartis desejados, nesse caso são:\n",
        "    * 0 - Valor mais baixo dos valores;\n",
        "    * 25 - Valor maior que 25% e menor que 75% dos valores;\n",
        "    * 50 - Valor central (mediana);\n",
        "    * 75 - Valor maior que 75% e menor que 25% dos valores;\n",
        "    * 100 - Maior valor;\n",
        "    "
      ]
    },
    {
      "cell_type": "code",
      "metadata": {
        "id": "T1mMdPPK0rOi",
        "colab_type": "code",
        "outputId": "c962fb32-7938-43f5-a6fc-fdebce3f9bcc",
        "colab": {
          "base_uri": "https://localhost:8080/",
          "height": 34
        }
      },
      "source": [
        "quartis = np.quantile(jogadores, [0, .25, .5, .75, 1])\n",
        "quartis"
      ],
      "execution_count": 0,
      "outputs": [
        {
          "output_type": "execute_result",
          "data": {
            "text/plain": [
              "array([ 12000.,  30000.,  40000., 250000., 800000.])"
            ]
          },
          "metadata": {
            "tags": []
          },
          "execution_count": 8
        }
      ]
    },
    {
      "cell_type": "markdown",
      "metadata": {
        "id": "KzYJFYR3ASAT",
        "colab_type": "text"
      },
      "source": [
        "### Calculando o desvio padrão dos valores\n",
        "Para calcular o desvio padrão dos nossos valores observados, os salários, utilizamos a função `std` do Numpy, porém como padrão o quociente da função é `N`, o que significa que trata-se de um desvio da população. Caso queira o cálculo do desvio de uma amostra pode-se passar um parâmetro a mais, o `ddof` e igualar ele a 1, assim a função utilizará o quociente `n-1`."
      ]
    },
    {
      "cell_type": "code",
      "metadata": {
        "id": "oqJTZBuP08Is",
        "colab_type": "code",
        "outputId": "7726f8e3-f234-4b3a-8f46-dd27c94aa6fc",
        "colab": {
          "base_uri": "https://localhost:8080/",
          "height": 34
        }
      },
      "source": [
        "np.std(jogadores)"
      ],
      "execution_count": 0,
      "outputs": [
        {
          "output_type": "execute_result",
          "data": {
            "text/plain": [
              "240706.5730739143"
            ]
          },
          "metadata": {
            "tags": []
          },
          "execution_count": 9
        }
      ]
    },
    {
      "cell_type": "code",
      "metadata": {
        "id": "Ytp3H8hx1k02",
        "colab_type": "code",
        "outputId": "50f749e6-4acc-47e2-85b3-f6e730aa82ab",
        "colab": {
          "base_uri": "https://localhost:8080/",
          "height": 34
        }
      },
      "source": [
        "np.std(jogadores, ddof=1)"
      ],
      "execution_count": 0,
      "outputs": [
        {
          "output_type": "execute_result",
          "data": {
            "text/plain": [
              "255307.87514511007"
            ]
          },
          "metadata": {
            "tags": []
          },
          "execution_count": 10
        }
      ]
    },
    {
      "cell_type": "markdown",
      "metadata": {
        "id": "Efth3FueBEuI",
        "colab_type": "text"
      },
      "source": [
        "### Descrevendo os atributos dos nosso dados\n",
        "Para um resumo descritivo dos nossos dados podemos utilizar a função `describe` do Stats, retornando valores como a média, mediana, número de elementos, variância e outros valores que podem ser úteis."
      ]
    },
    {
      "cell_type": "code",
      "metadata": {
        "id": "AHS2TARJ1pxx",
        "colab_type": "code",
        "outputId": "670859c2-6c3c-4079-8ef1-1696f2a021d0",
        "colab": {
          "base_uri": "https://localhost:8080/",
          "height": 34
        }
      },
      "source": [
        "stats.describe(jogadores)"
      ],
      "execution_count": 0,
      "outputs": [
        {
          "output_type": "execute_result",
          "data": {
            "text/plain": [
              "DescribeResult(nobs=9, minmax=(12000, 800000), mean=181111.11111111112, variance=65182111111.11111, skewness=1.758635899846188, kurtosis=1.9572075427527729)"
            ]
          },
          "metadata": {
            "tags": []
          },
          "execution_count": 11
        }
      ]
    }
  ]
}