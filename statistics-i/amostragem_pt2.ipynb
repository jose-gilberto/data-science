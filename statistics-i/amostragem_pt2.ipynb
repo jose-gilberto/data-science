{
  "nbformat": 4,
  "nbformat_minor": 0,
  "metadata": {
    "colab": {
      "name": "amostragem_pt2.ipynb",
      "provenance": []
    },
    "kernelspec": {
      "name": "python3",
      "display_name": "Python 3"
    }
  },
  "cells": [
    {
      "cell_type": "markdown",
      "metadata": {
        "id": "GzMSPDkYTx6J",
        "colab_type": "text"
      },
      "source": [
        "### Importando bibliotecas\n",
        "* Importamos o Pandas como no exemplo anterior, porém neste caso também importamos uma função da biblioteca sklearn, utilizada para aprendizado de máquina posteriormente. Neste caso importamos somente a função `train_test_split` utilizada para separar os estratos da amostra."
      ]
    },
    {
      "cell_type": "code",
      "metadata": {
        "id": "o6-Xot6Rtood",
        "colab_type": "code",
        "colab": {}
      },
      "source": [
        "import pandas as pd\n",
        "from sklearn.model_selection import train_test_split"
      ],
      "execution_count": 0,
      "outputs": []
    },
    {
      "cell_type": "markdown",
      "metadata": {
        "id": "v0tRTX1bUOlY",
        "colab_type": "text"
      },
      "source": [
        "### Lendo as informações com o Pandas\n",
        "Da mesma forma que foi realizada no exemplo anterior, lemos as informações de um arquivo `.csv` e jogamos o dataframe na variável `df`."
      ]
    },
    {
      "cell_type": "code",
      "metadata": {
        "id": "VPCgJd7_t5h5",
        "colab_type": "code",
        "outputId": "b0f55c70-f1be-4f1e-d0eb-6a6a3e90ac3d",
        "colab": {
          "base_uri": "https://localhost:8080/",
          "height": 195
        }
      },
      "source": [
        "df = pd.read_csv('https://raw.githubusercontent.com/jose-gilberto/data-science/master/datasets/iris.csv?token=AHYUBH2YXGHAJCD6EOZZQNS5U7QIE')\n",
        "df.head() # Exibindo as 5 preimeiro linhas do Dataframe"
      ],
      "execution_count": 2,
      "outputs": [
        {
          "output_type": "execute_result",
          "data": {
            "text/html": [
              "<div>\n",
              "<style scoped>\n",
              "    .dataframe tbody tr th:only-of-type {\n",
              "        vertical-align: middle;\n",
              "    }\n",
              "\n",
              "    .dataframe tbody tr th {\n",
              "        vertical-align: top;\n",
              "    }\n",
              "\n",
              "    .dataframe thead th {\n",
              "        text-align: right;\n",
              "    }\n",
              "</style>\n",
              "<table border=\"1\" class=\"dataframe\">\n",
              "  <thead>\n",
              "    <tr style=\"text-align: right;\">\n",
              "      <th></th>\n",
              "      <th>sepal_length</th>\n",
              "      <th>sepal_width</th>\n",
              "      <th>petal_length</th>\n",
              "      <th>petal_width</th>\n",
              "      <th>species</th>\n",
              "    </tr>\n",
              "  </thead>\n",
              "  <tbody>\n",
              "    <tr>\n",
              "      <th>0</th>\n",
              "      <td>5.1</td>\n",
              "      <td>3.5</td>\n",
              "      <td>1.4</td>\n",
              "      <td>0.2</td>\n",
              "      <td>setosa</td>\n",
              "    </tr>\n",
              "    <tr>\n",
              "      <th>1</th>\n",
              "      <td>4.9</td>\n",
              "      <td>3.0</td>\n",
              "      <td>1.4</td>\n",
              "      <td>0.2</td>\n",
              "      <td>setosa</td>\n",
              "    </tr>\n",
              "    <tr>\n",
              "      <th>2</th>\n",
              "      <td>4.7</td>\n",
              "      <td>3.2</td>\n",
              "      <td>1.3</td>\n",
              "      <td>0.2</td>\n",
              "      <td>setosa</td>\n",
              "    </tr>\n",
              "    <tr>\n",
              "      <th>3</th>\n",
              "      <td>4.6</td>\n",
              "      <td>3.1</td>\n",
              "      <td>1.5</td>\n",
              "      <td>0.2</td>\n",
              "      <td>setosa</td>\n",
              "    </tr>\n",
              "    <tr>\n",
              "      <th>4</th>\n",
              "      <td>5.0</td>\n",
              "      <td>3.6</td>\n",
              "      <td>1.4</td>\n",
              "      <td>0.2</td>\n",
              "      <td>setosa</td>\n",
              "    </tr>\n",
              "  </tbody>\n",
              "</table>\n",
              "</div>"
            ],
            "text/plain": [
              "   sepal_length  sepal_width  petal_length  petal_width species\n",
              "0           5.1          3.5           1.4          0.2  setosa\n",
              "1           4.9          3.0           1.4          0.2  setosa\n",
              "2           4.7          3.2           1.3          0.2  setosa\n",
              "3           4.6          3.1           1.5          0.2  setosa\n",
              "4           5.0          3.6           1.4          0.2  setosa"
            ]
          },
          "metadata": {
            "tags": []
          },
          "execution_count": 2
        }
      ]
    },
    {
      "cell_type": "markdown",
      "metadata": {
        "id": "yKaf9msXUeNi",
        "colab_type": "text"
      },
      "source": [
        "### Exibindo a contagem de valores de cada espécie\n",
        "Utilizando a função `value_counts()` é possível saber quantos individuos de cada espécie existem no dataframe, além de saber as espécies existentes nele."
      ]
    },
    {
      "cell_type": "code",
      "metadata": {
        "id": "8ceNuqpDuTGD",
        "colab_type": "code",
        "outputId": "3562b763-aae6-4982-9aa5-0a09a35239c4",
        "colab": {
          "base_uri": "https://localhost:8080/",
          "height": 87
        }
      },
      "source": [
        "df['species'].value_counts()"
      ],
      "execution_count": 3,
      "outputs": [
        {
          "output_type": "execute_result",
          "data": {
            "text/plain": [
              "versicolor    50\n",
              "virginica     50\n",
              "setosa        50\n",
              "Name: species, dtype: int64"
            ]
          },
          "metadata": {
            "tags": []
          },
          "execution_count": 3
        }
      ]
    },
    {
      "cell_type": "markdown",
      "metadata": {
        "id": "hYjYv78wV7oU",
        "colab_type": "text"
      },
      "source": [
        "* A variável `x` recebe os indices e os valores do dataframe das colunas 0 à 3 (respectivamente 'sepal_length', 'sepal_width', 'petal_length', 'petal_width');\n",
        "* A variável `y` recebe os indices e os valores da 'specie' de cada individuo;\n",
        "* O primeiro parâmetro da função são as colunas que irão para a variável x;\n",
        "* O segundo parâmetro são as colunas que irão compor a variável y;\n",
        "* O parâmetro test_size define o tamanho da amostra que será retirada da população;\n",
        "* O parâmetro stratify irá definir qual coluna será utilizada para composição dos estratos (em qual característica os estratos serão separados)"
      ]
    },
    {
      "cell_type": "code",
      "metadata": {
        "id": "VbA6n7B3ubKe",
        "colab_type": "code",
        "colab": {}
      },
      "source": [
        "x, _, y, _ = train_test_split(df.iloc[:, 0:4], df.iloc[:, 4], test_size=.5, stratify=df.iloc[:, 4])"
      ],
      "execution_count": 0,
      "outputs": []
    },
    {
      "cell_type": "code",
      "metadata": {
        "id": "NNOdzyJsvLOw",
        "colab_type": "code",
        "outputId": "acebc441-4938-45e4-f272-a1f72b4e432b",
        "colab": {
          "base_uri": "https://localhost:8080/",
          "height": 195
        }
      },
      "source": [
        "x.head()"
      ],
      "execution_count": 5,
      "outputs": [
        {
          "output_type": "execute_result",
          "data": {
            "text/html": [
              "<div>\n",
              "<style scoped>\n",
              "    .dataframe tbody tr th:only-of-type {\n",
              "        vertical-align: middle;\n",
              "    }\n",
              "\n",
              "    .dataframe tbody tr th {\n",
              "        vertical-align: top;\n",
              "    }\n",
              "\n",
              "    .dataframe thead th {\n",
              "        text-align: right;\n",
              "    }\n",
              "</style>\n",
              "<table border=\"1\" class=\"dataframe\">\n",
              "  <thead>\n",
              "    <tr style=\"text-align: right;\">\n",
              "      <th></th>\n",
              "      <th>sepal_length</th>\n",
              "      <th>sepal_width</th>\n",
              "      <th>petal_length</th>\n",
              "      <th>petal_width</th>\n",
              "    </tr>\n",
              "  </thead>\n",
              "  <tbody>\n",
              "    <tr>\n",
              "      <th>67</th>\n",
              "      <td>5.8</td>\n",
              "      <td>2.7</td>\n",
              "      <td>4.1</td>\n",
              "      <td>1.0</td>\n",
              "    </tr>\n",
              "    <tr>\n",
              "      <th>51</th>\n",
              "      <td>6.4</td>\n",
              "      <td>3.2</td>\n",
              "      <td>4.5</td>\n",
              "      <td>1.5</td>\n",
              "    </tr>\n",
              "    <tr>\n",
              "      <th>101</th>\n",
              "      <td>5.8</td>\n",
              "      <td>2.7</td>\n",
              "      <td>5.1</td>\n",
              "      <td>1.9</td>\n",
              "    </tr>\n",
              "    <tr>\n",
              "      <th>100</th>\n",
              "      <td>6.3</td>\n",
              "      <td>3.3</td>\n",
              "      <td>6.0</td>\n",
              "      <td>2.5</td>\n",
              "    </tr>\n",
              "    <tr>\n",
              "      <th>60</th>\n",
              "      <td>5.0</td>\n",
              "      <td>2.0</td>\n",
              "      <td>3.5</td>\n",
              "      <td>1.0</td>\n",
              "    </tr>\n",
              "  </tbody>\n",
              "</table>\n",
              "</div>"
            ],
            "text/plain": [
              "     sepal_length  sepal_width  petal_length  petal_width\n",
              "67            5.8          2.7           4.1          1.0\n",
              "51            6.4          3.2           4.5          1.5\n",
              "101           5.8          2.7           5.1          1.9\n",
              "100           6.3          3.3           6.0          2.5\n",
              "60            5.0          2.0           3.5          1.0"
            ]
          },
          "metadata": {
            "tags": []
          },
          "execution_count": 5
        }
      ]
    },
    {
      "cell_type": "code",
      "metadata": {
        "id": "tzSA3-7RwKza",
        "colab_type": "code",
        "outputId": "4df88d62-da6c-4827-a002-1ddccc7ff49a",
        "colab": {
          "base_uri": "https://localhost:8080/",
          "height": 87
        }
      },
      "source": [
        "y.value_counts()"
      ],
      "execution_count": 6,
      "outputs": [
        {
          "output_type": "execute_result",
          "data": {
            "text/plain": [
              "versicolor    25\n",
              "virginica     25\n",
              "setosa        25\n",
              "Name: species, dtype: int64"
            ]
          },
          "metadata": {
            "tags": []
          },
          "execution_count": 6
        }
      ]
    },
    {
      "cell_type": "code",
      "metadata": {
        "id": "zU37wDVnW2P5",
        "colab_type": "code",
        "colab": {
          "base_uri": "https://localhost:8080/",
          "height": 52
        },
        "outputId": "f002309a-0629-4a61-bcf9-5d2fd506016d"
      },
      "source": [
        "print('Tamanho da amostra em y: {}'.format(len(y)))\n",
        "print('Tamanho da amostra em x: {}'.format(len(x)))"
      ],
      "execution_count": 7,
      "outputs": [
        {
          "output_type": "stream",
          "text": [
            "Tamanho da amostra em y: 75\n",
            "Tamanho da amostra em x: 75\n"
          ],
          "name": "stdout"
        }
      ]
    }
  ]
}