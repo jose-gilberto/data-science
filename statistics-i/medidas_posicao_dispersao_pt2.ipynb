{
  "nbformat": 4,
  "nbformat_minor": 0,
  "metadata": {
    "colab": {
      "name": "medidas_posicao_dispersao_pt2.ipynb",
      "provenance": []
    },
    "kernelspec": {
      "name": "python3",
      "display_name": "Python 3"
    }
  },
  "cells": [
    {
      "cell_type": "markdown",
      "metadata": {
        "id": "Gc1MZWztMnie",
        "colab_type": "text"
      },
      "source": [
        "### Importando as bibliotecas\n",
        "* Pandas: utilizado para manipular o dataset e dataframe;\n",
        "* Numpy: utilizado para operações matemáticas;\n",
        "* Stats (Scipy): utilizado para descrever os dados estatisticamente;"
      ]
    },
    {
      "cell_type": "code",
      "metadata": {
        "id": "FjRl70LLIetK",
        "colab_type": "code",
        "colab": {}
      },
      "source": [
        "import numpy as np\n",
        "import pandas as pd\n",
        "from scipy import stats"
      ],
      "execution_count": 0,
      "outputs": []
    },
    {
      "cell_type": "markdown",
      "metadata": {
        "id": "5i5kqXwUM4Mp",
        "colab_type": "text"
      },
      "source": [
        "### Lendo dataset de um arquivo csv"
      ]
    },
    {
      "cell_type": "code",
      "metadata": {
        "id": "OANhrUWGIx_D",
        "colab_type": "code",
        "colab": {
          "base_uri": "https://localhost:8080/",
          "height": 195
        },
        "outputId": "90aa5ae0-4d92-429b-b5cf-2172ef4e0a4c"
      },
      "source": [
        "df = pd.read_csv('https://raw.githubusercontent.com/jose-gilberto/data-science/master/datasets/iris.csv')\n",
        "df.head()"
      ],
      "execution_count": 3,
      "outputs": [
        {
          "output_type": "execute_result",
          "data": {
            "text/html": [
              "<div>\n",
              "<style scoped>\n",
              "    .dataframe tbody tr th:only-of-type {\n",
              "        vertical-align: middle;\n",
              "    }\n",
              "\n",
              "    .dataframe tbody tr th {\n",
              "        vertical-align: top;\n",
              "    }\n",
              "\n",
              "    .dataframe thead th {\n",
              "        text-align: right;\n",
              "    }\n",
              "</style>\n",
              "<table border=\"1\" class=\"dataframe\">\n",
              "  <thead>\n",
              "    <tr style=\"text-align: right;\">\n",
              "      <th></th>\n",
              "      <th>sepal_length</th>\n",
              "      <th>sepal_width</th>\n",
              "      <th>petal_length</th>\n",
              "      <th>petal_width</th>\n",
              "      <th>species</th>\n",
              "    </tr>\n",
              "  </thead>\n",
              "  <tbody>\n",
              "    <tr>\n",
              "      <th>0</th>\n",
              "      <td>5.1</td>\n",
              "      <td>3.5</td>\n",
              "      <td>1.4</td>\n",
              "      <td>0.2</td>\n",
              "      <td>setosa</td>\n",
              "    </tr>\n",
              "    <tr>\n",
              "      <th>1</th>\n",
              "      <td>4.9</td>\n",
              "      <td>3.0</td>\n",
              "      <td>1.4</td>\n",
              "      <td>0.2</td>\n",
              "      <td>setosa</td>\n",
              "    </tr>\n",
              "    <tr>\n",
              "      <th>2</th>\n",
              "      <td>4.7</td>\n",
              "      <td>3.2</td>\n",
              "      <td>1.3</td>\n",
              "      <td>0.2</td>\n",
              "      <td>setosa</td>\n",
              "    </tr>\n",
              "    <tr>\n",
              "      <th>3</th>\n",
              "      <td>4.6</td>\n",
              "      <td>3.1</td>\n",
              "      <td>1.5</td>\n",
              "      <td>0.2</td>\n",
              "      <td>setosa</td>\n",
              "    </tr>\n",
              "    <tr>\n",
              "      <th>4</th>\n",
              "      <td>5.0</td>\n",
              "      <td>3.6</td>\n",
              "      <td>1.4</td>\n",
              "      <td>0.2</td>\n",
              "      <td>setosa</td>\n",
              "    </tr>\n",
              "  </tbody>\n",
              "</table>\n",
              "</div>"
            ],
            "text/plain": [
              "   sepal_length  sepal_width  petal_length  petal_width species\n",
              "0           5.1          3.5           1.4          0.2  setosa\n",
              "1           4.9          3.0           1.4          0.2  setosa\n",
              "2           4.7          3.2           1.3          0.2  setosa\n",
              "3           4.6          3.1           1.5          0.2  setosa\n",
              "4           5.0          3.6           1.4          0.2  setosa"
            ]
          },
          "metadata": {
            "tags": []
          },
          "execution_count": 3
        }
      ]
    },
    {
      "cell_type": "markdown",
      "metadata": {
        "id": "mnrsJHSeM9FT",
        "colab_type": "text"
      },
      "source": [
        "### Contando os valores de cada espécie do dataframe\n",
        "Agrupamos as linhas por espécies e contamos quantos individuos de cada espécie há no dataframe."
      ]
    },
    {
      "cell_type": "code",
      "metadata": {
        "id": "7JCliaXhJHE1",
        "colab_type": "code",
        "colab": {
          "base_uri": "https://localhost:8080/",
          "height": 87
        },
        "outputId": "a9995e0b-271c-419b-c040-8efcb993cf6d"
      },
      "source": [
        "df['species'].value_counts()"
      ],
      "execution_count": 4,
      "outputs": [
        {
          "output_type": "execute_result",
          "data": {
            "text/plain": [
              "virginica     50\n",
              "setosa        50\n",
              "versicolor    50\n",
              "Name: species, dtype: int64"
            ]
          },
          "metadata": {
            "tags": []
          },
          "execution_count": 4
        }
      ]
    },
    {
      "cell_type": "markdown",
      "metadata": {
        "id": "3sEshSqmNI-e",
        "colab_type": "text"
      },
      "source": [
        "### Filtrando setosas\n",
        "Na primeira linha filtramos as linhas do dataframe que são individuos da espécie 'setosa' e logo em seguida exibimos uma contagem das espécies existentes nesse novo dataframe filtrado. Essa contagem serve para saber se não há algum elemento indesejado no novo dataframe, algum elemento de outra espécie se não a setosa."
      ]
    },
    {
      "cell_type": "code",
      "metadata": {
        "id": "DRcmbP7TJWMI",
        "colab_type": "code",
        "colab": {
          "base_uri": "https://localhost:8080/",
          "height": 52
        },
        "outputId": "51f51e40-f01d-487f-8ea4-4921395c5275"
      },
      "source": [
        "setosas = df[df['species'] == 'setosa']\n",
        "setosas['species'].value_counts()"
      ],
      "execution_count": 6,
      "outputs": [
        {
          "output_type": "execute_result",
          "data": {
            "text/plain": [
              "setosa    50\n",
              "Name: species, dtype: int64"
            ]
          },
          "metadata": {
            "tags": []
          },
          "execution_count": 6
        }
      ]
    },
    {
      "cell_type": "markdown",
      "metadata": {
        "id": "dv3U0RWgNeKm",
        "colab_type": "text"
      },
      "source": [
        "### Exibindo valores máximos e mínimos\n",
        "O atributo a ser observado daqui em diante será o `sepal_length`, ou comprimento da sepala de uma setosa. A partir de agora também será utilizado o novo dataframe filtrado, o `setosas`."
      ]
    },
    {
      "cell_type": "code",
      "metadata": {
        "id": "9eZrUsVDJxp4",
        "colab_type": "code",
        "colab": {
          "base_uri": "https://localhost:8080/",
          "height": 52
        },
        "outputId": "01255d77-d30f-4869-e14c-6f0109922280"
      },
      "source": [
        "print('Tamanho mínimo da sepala de uma setosa: {}'.format(setosas['sepal_length'].min()))\n",
        "print('Tamanho máximo da sepala de uma setosa: {}'.format(setosas['sepal_length'].max()))"
      ],
      "execution_count": 10,
      "outputs": [
        {
          "output_type": "stream",
          "text": [
            "Tamanho mínimo da sepala de uma setosa: 4.3\n",
            "Tamanho máximo da sepala de uma setosa: 5.8\n"
          ],
          "name": "stdout"
        }
      ]
    },
    {
      "cell_type": "markdown",
      "metadata": {
        "id": "muZrHqrjNuSG",
        "colab_type": "text"
      },
      "source": [
        "### Calculando quartis do comprimento da sepala\n",
        "Calculamos os quartis 0, 1, 2, 3 e 4, onde:\n",
        "* 0 - Elemento mínimo, o resultado deve ser compatível ao mínimo calculado anteriormente;\n",
        "* 1 - Elemento maior que 25% dos dados e menor que 75%;\n",
        "* 2 - Elemento igual a mediana dos dados;\n",
        "* 3 - Elemento maior que 75% dos dados e menor que 25%;\n",
        "* 4 - Elemento máximo, assim como o mínimo o resultado deve ser compatível ao calculado anteriormente;"
      ]
    },
    {
      "cell_type": "code",
      "metadata": {
        "id": "ZB7-lqLzKdU6",
        "colab_type": "code",
        "colab": {
          "base_uri": "https://localhost:8080/",
          "height": 34
        },
        "outputId": "0f5b603f-c6e2-4ba4-9583-72abe2861a50"
      },
      "source": [
        "np.quantile(setosas['sepal_length'], [0, .25, .5, .75, 1])"
      ],
      "execution_count": 12,
      "outputs": [
        {
          "output_type": "execute_result",
          "data": {
            "text/plain": [
              "array([4.3, 4.8, 5. , 5.2, 5.8])"
            ]
          },
          "metadata": {
            "tags": []
          },
          "execution_count": 12
        }
      ]
    },
    {
      "cell_type": "markdown",
      "metadata": {
        "id": "q9MNBkcLON7G",
        "colab_type": "text"
      },
      "source": [
        "### Contagem dos valores do comprimento da sepala\n",
        "Com a contagem é possível saber a existência da moda do conjunto, que neste caso é bimodal (5.1, 5.0) cada um com 8 ocorrências."
      ]
    },
    {
      "cell_type": "code",
      "metadata": {
        "id": "5AcBDNMdKvWW",
        "colab_type": "code",
        "colab": {
          "base_uri": "https://localhost:8080/",
          "height": 298
        },
        "outputId": "c67242ce-9898-4f84-967f-c92e28d8cc1d"
      },
      "source": [
        "setosas['sepal_length'].value_counts()"
      ],
      "execution_count": 14,
      "outputs": [
        {
          "output_type": "execute_result",
          "data": {
            "text/plain": [
              "5.1    8\n",
              "5.0    8\n",
              "5.4    5\n",
              "4.8    5\n",
              "4.6    4\n",
              "4.9    4\n",
              "4.4    3\n",
              "5.2    3\n",
              "5.7    2\n",
              "4.7    2\n",
              "5.5    2\n",
              "5.3    1\n",
              "5.8    1\n",
              "4.3    1\n",
              "4.5    1\n",
              "Name: sepal_length, dtype: int64"
            ]
          },
          "metadata": {
            "tags": []
          },
          "execution_count": 14
        }
      ]
    },
    {
      "cell_type": "markdown",
      "metadata": {
        "id": "GQiwAffGOeh0",
        "colab_type": "text"
      },
      "source": [
        "### Calculando a média e mediana\n",
        "Podemos calcular a média e mediana do conjunto, a mediana deve ser compatível com o dado do segundo quartil calculado anteriormente."
      ]
    },
    {
      "cell_type": "code",
      "metadata": {
        "id": "vKBILcMMLSSM",
        "colab_type": "code",
        "colab": {
          "base_uri": "https://localhost:8080/",
          "height": 52
        },
        "outputId": "14961642-6e7a-40ee-c036-18022ec064fa"
      },
      "source": [
        "print('Média do tamanho das sepalas: {}'.format(setosas['sepal_length'].mean()))\n",
        "print('Mediana do tamanho das sepalas: {}'.format(setosas['sepal_length'].median()))"
      ],
      "execution_count": 16,
      "outputs": [
        {
          "output_type": "stream",
          "text": [
            "Média do tamanho das sepalas: 5.005999999999999\n",
            "Mediana do tamanho das sepalas: 5.0\n"
          ],
          "name": "stdout"
        }
      ]
    },
    {
      "cell_type": "markdown",
      "metadata": {
        "id": "2Jc6PdCkOokU",
        "colab_type": "text"
      },
      "source": [
        "### Calculando o desvio padrão do conjunto"
      ]
    },
    {
      "cell_type": "code",
      "metadata": {
        "id": "1OyVZuORLpBb",
        "colab_type": "code",
        "colab": {
          "base_uri": "https://localhost:8080/",
          "height": 34
        },
        "outputId": "84b936c1-bdeb-4372-acc1-ee5dc42372e1"
      },
      "source": [
        "np.std(setosas['sepal_length'])"
      ],
      "execution_count": 17,
      "outputs": [
        {
          "output_type": "execute_result",
          "data": {
            "text/plain": [
              "0.348946987377739"
            ]
          },
          "metadata": {
            "tags": []
          },
          "execution_count": 17
        }
      ]
    },
    {
      "cell_type": "markdown",
      "metadata": {
        "id": "dIacus1KOtAR",
        "colab_type": "text"
      },
      "source": [
        "### Descrevendo o conjunto de dados com o Pandas"
      ]
    },
    {
      "cell_type": "code",
      "metadata": {
        "id": "v4Nl1rjfLuxO",
        "colab_type": "code",
        "colab": {
          "base_uri": "https://localhost:8080/",
          "height": 175
        },
        "outputId": "9c922b5b-835f-4054-f704-9b9f1ae7d0a2"
      },
      "source": [
        "setosas['sepal_length'].describe()"
      ],
      "execution_count": 18,
      "outputs": [
        {
          "output_type": "execute_result",
          "data": {
            "text/plain": [
              "count    50.00000\n",
              "mean      5.00600\n",
              "std       0.35249\n",
              "min       4.30000\n",
              "25%       4.80000\n",
              "50%       5.00000\n",
              "75%       5.20000\n",
              "max       5.80000\n",
              "Name: sepal_length, dtype: float64"
            ]
          },
          "metadata": {
            "tags": []
          },
          "execution_count": 18
        }
      ]
    },
    {
      "cell_type": "markdown",
      "metadata": {
        "id": "DpntpveFOwVZ",
        "colab_type": "text"
      },
      "source": [
        "### Descrevendo o conjunto de dados com o Scipy (Stats)"
      ]
    },
    {
      "cell_type": "code",
      "metadata": {
        "id": "NRRYxDE0MYDD",
        "colab_type": "code",
        "colab": {
          "base_uri": "https://localhost:8080/",
          "height": 34
        },
        "outputId": "f52a7d10-5a0d-4005-b31f-e67d60f3a16e"
      },
      "source": [
        "stats.describe(setosas['sepal_length'])"
      ],
      "execution_count": 19,
      "outputs": [
        {
          "output_type": "execute_result",
          "data": {
            "text/plain": [
              "DescribeResult(nobs=50, minmax=(4.3, 5.8), mean=5.006, variance=0.12424897959183677, skewness=0.11645392749203057, kurtosis=-0.34576467558246327)"
            ]
          },
          "metadata": {
            "tags": []
          },
          "execution_count": 19
        }
      ]
    }
  ]
}